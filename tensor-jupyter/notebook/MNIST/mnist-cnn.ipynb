{
 "cells": [
  {
   "cell_type": "code",
   "execution_count": 1,
   "metadata": {},
   "outputs": [
    {
     "name": "stderr",
     "output_type": "stream",
     "text": [
      "Using TensorFlow backend.\n"
     ]
    }
   ],
   "source": [
    "%run 'commons.ipynb'"
   ]
  },
  {
   "cell_type": "code",
   "execution_count": 2,
   "metadata": {},
   "outputs": [
    {
     "name": "stdout",
     "output_type": "stream",
     "text": [
      "importing data to /home/ml/data\n",
      "Successfully downloaded train-images-idx3-ubyte.gz 9912422 bytes.\n",
      "Extracting /home/ml/data/train-images-idx3-ubyte.gz\n",
      "Successfully downloaded train-labels-idx1-ubyte.gz 28881 bytes.\n",
      "Extracting /home/ml/data/train-labels-idx1-ubyte.gz\n",
      "Successfully downloaded t10k-images-idx3-ubyte.gz 1648877 bytes.\n",
      "Extracting /home/ml/data/t10k-images-idx3-ubyte.gz\n",
      "Successfully downloaded t10k-labels-idx1-ubyte.gz 4542 bytes.\n",
      "Extracting /home/ml/data/t10k-labels-idx1-ubyte.gz\n"
     ]
    }
   ],
   "source": [
    "# Import MNIST data\n",
    "from tensorflow.examples.tutorials.mnist import input_data\n",
    "\n",
    "path = \"/home/ml/data\"\n",
    "print (\"importing data to %s\" % path)\n",
    "mnist = input_data.read_data_sets(path, one_hot=True, reshape=False)"
   ]
  },
  {
   "cell_type": "code",
   "execution_count": 3,
   "metadata": {},
   "outputs": [
    {
     "name": "stdout",
     "output_type": "stream",
     "text": [
      "image shape [28,28]=784\n"
     ]
    }
   ],
   "source": [
    "image_width = 28\n",
    "image_height = 28\n",
    "image_size = np.multiply(image_width, image_height)\n",
    "print(\"image shape [%s,%s]=%s\" % (image_width, image_height, image_size))"
   ]
  },
  {
   "cell_type": "code",
   "execution_count": 4,
   "metadata": {},
   "outputs": [
    {
     "data": {
      "image/png": "[encoded data removed]",
      "text/plain": [
       "<matplotlib.figure.Figure at 0x7fe2e3092090>"
      ]
     },
     "metadata": {},
     "output_type": "display_data"
    }
   ],
   "source": [
    "\n",
    "# display image\n",
    "def display(imgs):\n",
    "    n=imgs.size / image_size\n",
    "    i=1\n",
    "    for img in imgs:\n",
    "        plt.subplot(1,n,i)\n",
    "        plt.axis('off')\n",
    "        plt.imshow(img.reshape(28,28), cmap=cm.binary)\n",
    "        i=i+1\n",
    "\n",
    "# output images\n",
    "display(mnist.train.images[0:10])"
   ]
  },
  {
   "cell_type": "code",
   "execution_count": 5,
   "metadata": {},
   "outputs": [],
   "source": [
    "# Parameters\n",
    "learning_rate = 0.01\n",
    "epochs = 1\n",
    "batch_size = 100\n",
    "display_epoch = 1"
   ]
  },
  {
   "cell_type": "code",
   "execution_count": 6,
   "metadata": {},
   "outputs": [],
   "source": [
    "# convolution\n",
    "def conv2d(x, W):\n",
    "    return tf.nn.conv2d(x, W, strides=[1, 1, 1, 1], padding='SAME')\n",
    "\n",
    "def max_pool_2x2(x):\n",
    "    return tf.nn.max_pool(x, ksize=[1, 2, 2, 1], strides=[1, 2, 2, 1], padding='SAME')"
   ]
  },
  {
   "cell_type": "markdown",
   "metadata": {},
   "source": [
    "The first layer is a convolution, followed by max pooling. The convolution computes 32 features for each 5x5 patch. Its weight tensor has a shape of [5, 5, 1, 32]. The first two dimensions are the patch size, the next is the number of input channels (1 means that images are grayscale), and the last is the number of output channels. There is also a bias vector with a component for each output channel.\n",
    "\n",
    "\n",
    "To apply the layer, we reshape the input data to a 4d tensor, with the first dimension corresponding to the number of images, second and third - to image width and height, and the final dimension - to the number of colour channels."
   ]
  },
  {
   "cell_type": "code",
   "execution_count": 7,
   "metadata": {},
   "outputs": [],
   "source": [
    "# tf Graph Input\n",
    "# mnist data image of shape 28*28=784\n",
    "x = tf.placeholder(tf.float32, [None, 28, 28, 1], name='x')\n",
    "# 0-9 digits recognition => 10 classes\n",
    "labels = tf.placeholder(tf.float32, [None, 10], name='labels')\n",
    "\n",
    "# first convolutional layer, with max pool\n",
    "W_conv1 = weight_variable([5, 5, 1, 32])\n",
    "b_conv1 = bias_variable([32])\n",
    "\n",
    "h_conv1 = tf.nn.relu(conv2d(x, W_conv1) + b_conv1)\n",
    "#print (h_conv1.get_shape()) # => (40000, 28, 28, 32)\n",
    "h_pool1 = max_pool_2x2(h_conv1)\n",
    "#print (h_pool1.get_shape()) # => (40000, 14, 14, 32)\n",
    "\n",
    "# second convolutional layer, with max pool\n",
    "W_conv2 = weight_variable([5, 5, 32, 64])\n",
    "b_conv2 = bias_variable([64])\n",
    "\n",
    "h_conv2 = tf.nn.relu(conv2d(h_pool1, W_conv2) + b_conv2)\n",
    "h_pool2 = max_pool_2x2(h_conv2)\n",
    "\n",
    "# densely connected layer\n",
    "W_fc1 = weight_variable([7 * 7 * 64, 1024])\n",
    "b_fc1 = bias_variable([1024])\n",
    "\n",
    "h_pool2_flat = tf.reshape(h_pool2, [-1, 7*7*64])\n",
    "h_fc1 = tf.nn.relu(tf.matmul(h_pool2_flat, W_fc1) + b_fc1)\n",
    "\n",
    "# drop out\n",
    "keep_prob = tf.placeholder_with_default(1.0, shape=(), name=\"keep_prob\")\n",
    "h_fc1_drop = tf.nn.dropout(h_fc1, keep_prob)\n",
    "\n",
    "# readout layer\n",
    "W_fc2 = weight_variable([1024, 10])\n",
    "b_fc2 = bias_variable([10])\n",
    "\n",
    "y_conv = tf.matmul(h_fc1_drop, W_fc2) + b_fc2\n",
    "\n",
    "\n",
    "cross_entropy = tf.reduce_mean(\n",
    "    tf.nn.softmax_cross_entropy_with_logits(labels=labels, logits=y_conv))\n",
    "train_step = tf.train.AdamOptimizer(1e-4).minimize(cross_entropy)\n",
    "correct_prediction = tf.equal(tf.argmax(y_conv, 1), tf.argmax(labels, 1))\n",
    "accuracy = tf.reduce_mean(tf.cast(correct_prediction, tf.float32))\n",
    "\n",
    "y_softmax = tf.nn.softmax(y_conv, name='y_softmax')\n",
    "values, indices = tf.nn.top_k(y_softmax, 10)\n",
    "\n",
    "table = tf.contrib.lookup.index_to_string_table_from_tensor(tf.constant([str(i) for i in range(10)]))\n",
    "prediction_classes = table.lookup(tf.to_int64(indices))\n",
    "\n",
    "tf.summary.scalar(\"loss\", cross_entropy)\n",
    "tf.summary.scalar(\"accuracy\", accuracy)\n",
    "summary_op = tf.summary.merge_all()"
   ]
  },
  {
   "cell_type": "code",
   "execution_count": 8,
   "metadata": {},
   "outputs": [],
   "source": [
    "# Start training\n",
    "cxt = Context(\"mnist-cnn\", 1)"
   ]
  },
  {
   "cell_type": "code",
   "execution_count": 9,
   "metadata": {},
   "outputs": [
    {
     "name": "stdout",
     "output_type": "stream",
     "text": [
      "total batches = 550\n",
      "step 0, training accuracy 0.09\n",
      "step 10, training accuracy 0.14\n",
      "step 20, training accuracy 0.34\n",
      "step 30, training accuracy 0.62\n",
      "step 40, training accuracy 0.68\n",
      "step 50, training accuracy 0.76\n",
      "step 60, training accuracy 0.77\n",
      "step 70, training accuracy 0.86\n",
      "step 80, training accuracy 0.76\n",
      "step 90, training accuracy 0.84\n",
      "step 100, training accuracy 0.84\n",
      "step 110, training accuracy 0.81\n",
      "step 120, training accuracy 0.87\n",
      "step 130, training accuracy 0.87\n",
      "step 140, training accuracy 0.87\n",
      "step 150, training accuracy 0.9\n",
      "step 160, training accuracy 0.94\n",
      "step 170, training accuracy 0.89\n",
      "step 180, training accuracy 0.96\n",
      "step 190, training accuracy 0.84\n",
      "step 200, training accuracy 0.87\n",
      "step 210, training accuracy 0.95\n",
      "step 220, training accuracy 0.94\n",
      "step 230, training accuracy 0.96\n",
      "step 240, training accuracy 0.89\n",
      "step 250, training accuracy 0.97\n",
      "step 260, training accuracy 0.95\n",
      "step 270, training accuracy 0.91\n",
      "step 280, training accuracy 0.93\n",
      "step 290, training accuracy 0.92\n",
      "step 300, training accuracy 0.93\n",
      "step 310, training accuracy 0.97\n",
      "step 320, training accuracy 0.96\n",
      "step 330, training accuracy 0.94\n",
      "step 340, training accuracy 0.94\n",
      "step 350, training accuracy 0.93\n",
      "step 360, training accuracy 0.93\n",
      "step 370, training accuracy 0.9\n",
      "step 380, training accuracy 0.94\n",
      "step 390, training accuracy 0.89\n",
      "step 400, training accuracy 0.97\n",
      "step 410, training accuracy 0.94\n",
      "step 420, training accuracy 0.91\n",
      "step 430, training accuracy 0.94\n",
      "step 440, training accuracy 0.9\n",
      "step 450, training accuracy 0.92\n",
      "step 460, training accuracy 0.95\n",
      "step 470, training accuracy 0.94\n",
      "step 480, training accuracy 0.96\n",
      "step 490, training accuracy 0.92\n",
      "step 500, training accuracy 0.93\n",
      "step 510, training accuracy 0.92\n",
      "step 520, training accuracy 0.92\n",
      "step 530, training accuracy 0.91\n",
      "step 540, training accuracy 0.93\n",
      "step 549, training accuracy 0.93\n",
      "Checkpoint saved to path: /home/ml/checkpoints/mnist-cnn/1/checkpoint.ckpt\n",
      "done training mnist-cnn\n",
      "INFO:tensorflow:No assets to save.\n",
      "INFO:tensorflow:No assets to write.\n",
      "INFO:tensorflow:SavedModel written to: /home/ml/models/mnist-cnn/1/saved_model.pb\n",
      "Model exported to path: /home/ml/models/mnist-cnn/1\n"
     ]
    }
   ],
   "source": [
    "# Start training\n",
    "\n",
    "saver = tf.train.Saver()\n",
    "with tf.Session() as sess:\n",
    "    sess.run(tf.global_variables_initializer())\n",
    "    \n",
    "    # op to write logs to Tensorboard\n",
    "    summary_writer = tf.summary.FileWriter(cxt.log_path, graph=tf.get_default_graph())\n",
    "    \n",
    "    total_batches = int(mnist.train.num_examples/batch_size)\n",
    "    print(\"total batches = %s\" % (total_batches))\n",
    "    for e in range(epochs):\n",
    "        for i in range(total_batches):\n",
    "            batch_xs, batch_ys = mnist.train.next_batch(batch_size) \n",
    "            if i % 10 == 0:\n",
    "                # record summary data\n",
    "                train_accuracy, summary = sess.run([accuracy, summary_op], feed_dict={x: batch_xs, labels: batch_ys, keep_prob: 1.0})\n",
    "                summary_writer.add_summary(summary, e * total_batches + i)\n",
    "                print('step %d, training accuracy %g' % (i, train_accuracy))\n",
    "            else:\n",
    "                _ = sess.run([train_step], feed_dict={x: batch_xs, labels: batch_ys, keep_prob: 0.5})\n",
    "\n",
    "        print('step %d, training accuracy %g' % (i, train_accuracy))\n",
    "        p = saver.save(sess, \"%s/checkpoint.ckpt\" % (cxt.checkpoint_path))\n",
    "        print(\"Checkpoint saved to path: %s\" % p)\n",
    "\n",
    "    print('done training mnist-cnn')\n",
    "    \n",
    "    tensor_info_x = tf.saved_model.utils.build_tensor_info(x)\n",
    "    tensor_info_y = tf.saved_model.utils.build_tensor_info(y_softmax)\n",
    "\n",
    "    # build prediction signature\n",
    "    s = signature(x, y_softmax)\n",
    "\n",
    "    # saving model\n",
    "    legacy_init_op = tf.group(tf.tables_initializer(), name='legacy_init_op')\n",
    "        \n",
    "    builder = tf.saved_model.builder.SavedModelBuilder(cxt.model_path)\n",
    "    builder.add_meta_graph_and_variables(\n",
    "        sess,[tf.saved_model.tag_constants.SERVING],\n",
    "        signature_def_map = signature_def_map(s),\n",
    "        legacy_init_op=legacy_init_op)\n",
    "    \n",
    "    \n",
    "    builder.save()\n",
    "    print(\"Model exported to path: %s\" % cxt.model_path)   "
   ]
  },
  {
   "cell_type": "code",
   "execution_count": null,
   "metadata": {},
   "outputs": [],
   "source": []
  }
 ],
 "metadata": {
  "kernelspec": {
   "display_name": "Python 3",
   "language": "python",
   "name": "python3"
  },
  "language_info": {
   "codemirror_mode": {
    "name": "ipython",
    "version": 3
   },
   "file_extension": ".py",
   "mimetype": "text/x-python",
   "name": "python",
   "nbconvert_exporter": "python",
   "pygments_lexer": "ipython3",
   "version": "3.5.2"
  }
 },
 "nbformat": 4,
 "nbformat_minor": 2
}
