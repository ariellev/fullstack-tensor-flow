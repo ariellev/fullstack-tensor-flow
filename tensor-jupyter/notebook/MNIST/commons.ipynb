{
 "cells": [
  {
   "cell_type": "code",
   "execution_count": null,
   "metadata": {},
   "outputs": [],
   "source": [
    "%run '../common/utils.ipynb'\n",
    "\n",
    "def signature(inputs, outputs):\n",
    "    return (\n",
    "      tf.saved_model.signature_def_utils.predict_signature_def(\n",
    "          inputs={'images': inputs},\n",
    "          outputs={'scores': outputs}))\n",
    "\n",
    "def signature_def_map(signature):\n",
    "    return {'predict': signature}"
   ]
  },
  {
   "cell_type": "code",
   "execution_count": null,
   "metadata": {},
   "outputs": [],
   "source": []
  }
 ],
 "metadata": {
  "kernelspec": {
   "display_name": "Python 3",
   "language": "python",
   "name": "python3"
  },
  "language_info": {
   "codemirror_mode": {
    "name": "ipython",
    "version": 3
   },
   "file_extension": ".py",
   "mimetype": "text/x-python",
   "name": "python",
   "nbconvert_exporter": "python",
   "pygments_lexer": "ipython3",
   "version": "3.5.2"
  }
 },
 "nbformat": 4,
 "nbformat_minor": 2
}
