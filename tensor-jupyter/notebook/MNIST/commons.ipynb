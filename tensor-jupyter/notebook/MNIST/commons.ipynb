{
 "cells": [
  {
   "cell_type": "code",
   "execution_count": 4,
   "metadata": {},
   "outputs": [],
   "source": [
    "%run '../common/utils.ipynb'\n",
    "\n",
    "from keras.callbacks import TensorBoard\n",
    "\n",
    "def signature(inputs, outputs):\n",
    "    return (\n",
    "      tf.saved_model.signature_def_utils.predict_signature_def(\n",
    "          inputs={'images': inputs},\n",
    "          outputs={'scores': outputs}))\n",
    "\n",
    "def signature_def_map(signature):\n",
    "    return {'predict': signature}\n",
    "\n",
    "import tensorflow as tf\n",
    "\n",
    "class BatchLevelTensorBoard(TensorBoard):\n",
    "    '''\n",
    "    Batch Level Metrics\n",
    "    '''\n",
    "    def __init__(self, log_every=1, **kwargs):\n",
    "        super().__init__(**kwargs)\n",
    "        self.log_every = log_every\n",
    "        self.counter = 0\n",
    "        \n",
    "    def on_batch_end(self, batch, logs=None):\n",
    "        self.counter+=1\n",
    "        if self.counter%self.log_every==0:\n",
    "            for name, value in logs.items():\n",
    "                if name in ['batch', 'size']:\n",
    "                    continue\n",
    "                summary = tf.Summary()\n",
    "                summary_value = summary.value.add()\n",
    "                summary_value.simple_value = value.item()\n",
    "                summary_value.tag = name\n",
    "                self.writer.add_summary(summary, self.counter)\n",
    "            self.writer.flush()\n",
    "        \n",
    "        super().on_batch_end(batch, logs)"
   ]
  }
 ],
 "metadata": {
  "kernelspec": {
   "display_name": "Python 3",
   "language": "python",
   "name": "python3"
  },
  "language_info": {
   "codemirror_mode": {
    "name": "ipython",
    "version": 3
   },
   "file_extension": ".py",
   "mimetype": "text/x-python",
   "name": "python",
   "nbconvert_exporter": "python",
   "pygments_lexer": "ipython3",
   "version": "3.5.2"
  }
 },
 "nbformat": 4,
 "nbformat_minor": 2
}
